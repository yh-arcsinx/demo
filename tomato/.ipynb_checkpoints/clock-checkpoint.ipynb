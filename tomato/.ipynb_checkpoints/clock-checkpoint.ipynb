{
 "cells": [
  {
   "cell_type": "code",
   "execution_count": 20,
   "id": "e89eb9d5",
   "metadata": {},
   "outputs": [],
   "source": [
    "import time"
   ]
  },
  {
   "cell_type": "code",
   "execution_count": 23,
   "id": "1906f6f8",
   "metadata": {},
   "outputs": [],
   "source": [
    "#start \n",
    "def clock(msg,study=25):\n",
    "    for i in range(study):\n",
    "        tomato=int(i//2.5)\n",
    "        print('\\r\\x1b[K','🍅' *tomato,'--'*(10-tomato-1),f'[{i} min]' ,end='')\n",
    "        time.sleep(60)\n",
    "        \n",
    "        \n",
    "    else:\n",
    "        print('\\r\\x1b[K','🍅' *tomato,'--'*(10-tomato-1),f'[{i} min]' )\n",
    "        print(msg)\n",
    "        \n",
    "#         print('恭喜你完成了一个番茄钟')\n",
    "def main():\n",
    "    clock('恭喜你完成了一个番茄钟')"
   ]
  },
  {
   "cell_type": "code",
   "execution_count": 24,
   "id": "2f154232",
   "metadata": {},
   "outputs": [
    {
     "name": "stdout",
     "output_type": "stream",
     "text": [
      "\u001b[K 🍅🍅🍅🍅🍅🍅🍅🍅🍅  [24 min]\n",
      "恭喜你完成了一个番茄钟\n"
     ]
    }
   ],
   "source": [
    "\n",
    "if __name__ == \"__main__\":\n",
    "    main()"
   ]
  },
  {
   "cell_type": "code",
   "execution_count": null,
   "id": "1ab04915",
   "metadata": {},
   "outputs": [],
   "source": []
  }
 ],
 "metadata": {
  "kernelspec": {
   "display_name": "Python 3 (ipykernel)",
   "language": "python",
   "name": "python3"
  },
  "language_info": {
   "codemirror_mode": {
    "name": "ipython",
    "version": 3
   },
   "file_extension": ".py",
   "mimetype": "text/x-python",
   "name": "python",
   "nbconvert_exporter": "python",
   "pygments_lexer": "ipython3",
   "version": "3.8.13"
  }
 },
 "nbformat": 4,
 "nbformat_minor": 5
}
